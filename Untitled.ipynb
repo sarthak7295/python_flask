{
 "cells": [
  {
   "cell_type": "code",
   "execution_count": 1,
   "metadata": {},
   "outputs": [
    {
     "name": "stderr",
     "output_type": "stream",
     "text": [
      "Using TensorFlow backend.\n"
     ]
    }
   ],
   "source": [
    "import numpy as np\n",
    "# import pandas as pd\n",
    "from keras.datasets import mnist\n",
    "from sklearn.model_selection import train_test_split\n",
    "import tensorflow as tf\n",
    "import keras\n",
    "import keras.layers as layers\n",
    "from keras.models import Sequential\n",
    "from keras.preprocessing.image import ImageDataGenerator\n",
    "from keras.utils.np_utils import to_categorical\n",
    "from keras.regularizers import l2\n",
    "from keras.layers import Activation\n",
    "from keras.models import load_model\n",
    "import matplotlib.pyplot as plt\n",
    "import cv2"
   ]
  },
  {
   "cell_type": "code",
   "execution_count": 6,
   "metadata": {},
   "outputs": [
    {
     "name": "stderr",
     "output_type": "stream",
     "text": [
      "/opt/conda/lib/python3.7/site-packages/ipykernel_launcher.py:12: UserWarning: Update your `Dense` call to the Keras 2 API: `Dense(10, kernel_regularizer=<keras.reg...)`\n",
      "  if sys.path[0] == '':\n"
     ]
    },
    {
     "name": "stdout",
     "output_type": "stream",
     "text": [
      "WARNING:tensorflow:From /opt/conda/lib/python3.7/site-packages/keras/backend/tensorflow_backend.py:422: The name tf.global_variables is deprecated. Please use tf.compat.v1.global_variables instead.\n",
      "\n"
     ]
    },
    {
     "data": {
      "text/plain": [
       "array([[1.9251591e-07, 8.8308752e-08, 1.7464675e-06, 1.1511269e-04,\n",
       "        7.5400315e-08, 9.9980849e-01, 4.1209287e-06, 1.6615215e-07,\n",
       "        2.7516330e-06, 6.7250563e-05]], dtype=float32)"
      ]
     },
     "execution_count": 6,
     "metadata": {},
     "output_type": "execute_result"
    }
   ],
   "source": [
    "def get_mnist_model():\n",
    "    model = keras.Sequential()\n",
    "    model.add(layers.Conv2D(filters=6, kernel_size=(3, 3), activation='relu', input_shape=(32, 32, 1)))\n",
    "    model.add(layers.AveragePooling2D())\n",
    "    model.add(layers.Conv2D(filters=6, kernel_size=(3, 3), activation='relu'))\n",
    "    model.add(layers.AveragePooling2D())\n",
    "    model.add(layers.Conv2D(filters=16, kernel_size=(3, 3), activation='relu'))\n",
    "    model.add(layers.AveragePooling2D())\n",
    "    model.add(layers.Flatten())\n",
    "    model.add(layers.Dense(units=120, activation='relu'))\n",
    "    model.add(layers.Dense(84, activation='relu'))\n",
    "    model.add(layers.Dense(10, W_regularizer=l2(0.01)))\n",
    "    model.add(Activation('softmax'))\n",
    "    model.compile(loss=keras.losses.categorical_crossentropy, optimizer=keras.optimizers.Adam(), metrics=['accuracy'])\n",
    "    model.load_weights('mnist_fin.h5')\n",
    "    return model\n",
    "\n",
    "def get_result(image_name,my_model):\n",
    "    img = cv2.imread(image_name, cv2.IMREAD_GRAYSCALE)\n",
    "    img = cv2.resize(img, (32, 32), interpolation=cv2.INTER_AREA)\n",
    "    res = my_model.predict(img.reshape(1, 32, 32, 1))\n",
    "    # print(np.argmax(my_model.predict(img.reshape(1, 32, 32, 1))))\n",
    "    return res\n",
    "\n",
    "model1=get_mnist_model()\n",
    "get_result('output.png',model1)"
   ]
  }
 ],
 "metadata": {
  "kernelspec": {
   "display_name": "Python 3",
   "language": "python",
   "name": "python3"
  },
  "language_info": {
   "codemirror_mode": {
    "name": "ipython",
    "version": 3
   },
   "file_extension": ".py",
   "mimetype": "text/x-python",
   "name": "python",
   "nbconvert_exporter": "python",
   "pygments_lexer": "ipython3",
   "version": "3.7.6"
  }
 },
 "nbformat": 4,
 "nbformat_minor": 4
}
