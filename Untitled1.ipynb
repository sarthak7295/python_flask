{
 "cells": [
  {
   "cell_type": "code",
   "execution_count": 1,
   "metadata": {},
   "outputs": [
    {
     "name": "stderr",
     "output_type": "stream",
     "text": [
      "Using TensorFlow backend.\n"
     ]
    }
   ],
   "source": [
    "from flask import Flask, flash, redirect, render_template, request, url_for\n",
    "import keras\n",
    "import re\n",
    "import base64\n",
    "import model as mod\n",
    "import os\n",
    "import numpy as np"
   ]
  },
  {
   "cell_type": "code",
   "execution_count": 3,
   "metadata": {},
   "outputs": [
    {
     "name": "stdout",
     "output_type": "stream",
     "text": [
      " * Serving Flask app \"__main__\" (lazy loading)\n",
      " * Environment: production\n",
      "   WARNING: This is a development server. Do not use it in a production deployment.\n",
      "   Use a production WSGI server instead.\n",
      " * Debug mode: off\n"
     ]
    },
    {
     "name": "stderr",
     "output_type": "stream",
     "text": [
      " * Running on http://0.0.0.0:5001/ (Press CTRL+C to quit)\n"
     ]
    }
   ],
   "source": [
    "\n",
    "app = Flask(__name__)\n",
    "\n",
    "\n",
    "my_model = mod.get_mnist_model()\n",
    "\n",
    "\n",
    "# decoding an image from base64 into raw representation\n",
    "def convertImage(imgData1):\n",
    "    imgstr = re.search(r'base64,(.*)', str(imgData1)).group(1)\n",
    "    with open('output.png', 'wb') as output:\n",
    "        output.write(base64.b64decode(imgstr))\n",
    "\n",
    "\n",
    "@app.route('/s')\n",
    "def index():\n",
    "    return render_template('new_home.html', data=[{'name': 'Mnist'}, {'name': 'ImageNet'}])\n",
    "\n",
    "\n",
    "@app.route('/')\n",
    "def hello_world():\n",
    "    return 'Hello World!'\n",
    "\n",
    "\n",
    "@app.route('/predict/', methods=['GET', 'POST'])\n",
    "def predict():\n",
    "    # whenever the predict method is called, we're going\n",
    "    # to input the user drawn character as an image into the model\n",
    "    # perform inference, and return the classification\n",
    "    # get the raw data format of the image\n",
    "    imgData = request.get_data()\n",
    "    convertImage(imgData)\n",
    "    keras.backend.clear_session()\n",
    "    my_model = mod.get_mnist_model()\n",
    "    res = mod.get_result('output.png', my_model)\n",
    "    print(np.round(res*100,2)) # probabilites of all other digits\n",
    "    return str(np.argmax(res))\n",
    "\n",
    "\n",
    "\n",
    "if __name__ == '__main__':\n",
    "    app.run(host='0.0.0.0',port=5001)\n"
   ]
  },
  {
   "cell_type": "code",
   "execution_count": null,
   "metadata": {},
   "outputs": [],
   "source": []
  }
 ],
 "metadata": {
  "kernelspec": {
   "display_name": "Python 3",
   "language": "python",
   "name": "python3"
  },
  "language_info": {
   "codemirror_mode": {
    "name": "ipython",
    "version": 3
   },
   "file_extension": ".py",
   "mimetype": "text/x-python",
   "name": "python",
   "nbconvert_exporter": "python",
   "pygments_lexer": "ipython3",
   "version": "3.7.6"
  }
 },
 "nbformat": 4,
 "nbformat_minor": 4
}
